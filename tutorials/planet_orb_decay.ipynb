{
 "cells": [
  {
   "cell_type": "markdown",
   "id": "9ee236b7-ffd8-48d8-b92e-6a48a430ea56",
   "metadata": {},
   "source": [
    "# Study orbital decay of short-period planets"
   ]
  },
  {
   "cell_type": "markdown",
   "id": "fe061b62-38ed-4071-b633-ec98f88ae073",
   "metadata": {
    "tags": []
   },
   "source": [
    "## Import ploonetide and other libraries"
   ]
  },
  {
   "cell_type": "code",
   "execution_count": 1,
   "id": "e41096bb-1ec2-45fa-a397-0b43f40f2dc9",
   "metadata": {},
   "outputs": [],
   "source": [
    "import numpy as np\n",
    "import matplotlib.pyplot as plt\n",
    "\n",
    "from ploonetide import TidalSimulation\n",
    "from ploonetide.utils.functions import mean2axis\n",
    "from ploonetide.utils.constants import GYEAR, KYEAR, DAY, MSUN, AU"
   ]
  },
  {
   "cell_type": "markdown",
   "id": "fe57e864-c185-4b49-86ed-e19a8a610fe8",
   "metadata": {
    "tags": []
   },
   "source": [
    "## Create TidalSimulation object for star-planet system"
   ]
  },
  {
   "cell_type": "code",
   "execution_count": 2,
   "id": "d4ac278c-35c2-4411-b871-9d7a1a6d2025",
   "metadata": {},
   "outputs": [
    {
     "name": "stdout",
     "output_type": "stream",
     "text": [
      "       _                        _   _     _      \n",
      " _ __ | | ___   ___  _ __   ___| |_(_) __| | ___ \n",
      "| '_ \\| |/ _ \\ / _ \\| '_ \\ / _ \\ __| |/ _` |/ _ \\\n",
      "| |_) | | (_) | (_) | | | |  __/ |_| | (_| |  __/\n",
      "| .__/|_|\\___/ \\___/|_| |_|\\___|\\__|_|\\__,_|\\___|\n",
      "|_|                                              \n",
      "\n",
      "\n",
      "Star mass: 0.8 solMass\n",
      " Star radius: 1.0 solRad\n",
      " Star rotation period: 10.0 d\n",
      " Planet orbital period: 2.0 d\n",
      " Planet mass: 2.0 jupiterMass\n",
      " Planet radius: 1.3 jupiterRad\n",
      " Planet eccentricity: 0.0200\n",
      "\n"
     ]
    }
   ],
   "source": [
    "simulation = TidalSimulation(\n",
    "    system='star-planet',\n",
    "    star_mass=0.8,  # Solar masses\n",
    "    star_radius=1.0,  # Solar radii \n",
    "    star_rotperiod=10,  # days\n",
    "    star_internal_evolution=False,\n",
    "    planet_mass=2,  # Jupiter masses \n",
    "    planet_radius=1.3,  # Jupiter radii\n",
    "    planet_orbperiod=2,  # days\n",
    "    planet_rotperiod=2,  # days (here tidal-locking)\n",
    "    planet_eccentricity=0.02,\n",
    "    planet_size_evolution=False,\n",
    "    planet_internal_evolution=True,\n",
    "    planet_core_dissipation=False,\n",
    ")"
   ]
  },
  {
   "cell_type": "markdown",
   "id": "93a84fc8-ae08-4770-b110-cb30416b74eb",
   "metadata": {},
   "source": [
    "----\n",
    "## After building the TidalSimulation class instance, and before running the simulation, you still can modify any parameter in `dir(simulation)`:"
   ]
  },
  {
   "cell_type": "code",
   "execution_count": 3,
   "id": "f8300193-7323-471c-8b1c-48f68ed3ff6b",
   "metadata": {},
   "outputs": [],
   "source": [
    "# print(dir(simulation))  # Uncomment this line to print all the simulation attributes\n",
    "simulation.star_mass = 1.0  # Solar masses\n",
    "simulation.planet_mass = 1.0  # Jupiter masses"
   ]
  },
  {
   "cell_type": "code",
   "execution_count": 4,
   "id": "201c0f25-c14f-42ef-80b1-fb043d8c87aa",
   "metadata": {},
   "outputs": [
    {
     "data": {
      "text/plain": [
       "{'Ms': 1.988409870698051e+30,\n",
       " 'Rs': 695700000.0,\n",
       " 'Ls': 6.463570700718025e+25,\n",
       " 'coeff_star': 0.5,\n",
       " 'star_alpha': 0.25,\n",
       " 'star_beta': 0.25,\n",
       " 'os_saturation': 4.3421e-05,\n",
       " 'star_age': 1.57788e+17,\n",
       " 'coeff_planet': 0.26401,\n",
       " 'Mp': 1.8981245973360505e+27,\n",
       " 'Rp': 92939600.0,\n",
       " 'planet_alpha': 0.126,\n",
       " 'planet_beta': 0.02,\n",
       " 'rigidity': 44600000000.0,\n",
       " 'E_act': 300000.0,\n",
       " 'B': 25.0,\n",
       " 'Ts': 1600.0,\n",
       " 'Tb': 1800.0,\n",
       " 'Tl': 2000.0,\n",
       " 'Cp': 1260.0,\n",
       " 'ktherm': 2.0,\n",
       " 'Rac': 1100.0,\n",
       " 'a2': 1.0,\n",
       " 'alpha_exp': 0.0001,\n",
       " 'densm': 5495.021865555213,\n",
       " 'Mm': 5.972167867791379e+24,\n",
       " 'Rm': 6378100.0,\n",
       " 'melt_fr': 0.5,\n",
       " 'sun_mass_loss_rate': 882124692.301465,\n",
       " 'sun_omega': 2.67e-06,\n",
       " 'os_ini': 7.272205216643039e-06,\n",
       " 'np_ini': 3.636102608321527e-05,\n",
       " 'op_ini': 3.63610260832152e-05,\n",
       " 'ep_ini': 0.02,\n",
       " 'mp_ini': 1.8981245973360505e+27,\n",
       " 'nm_ini': 1.9628360796108954e-05,\n",
       " 'Tm_ini': 925.7561647770565,\n",
       " 'Em_ini': 395460841311.21844,\n",
       " 'em_ini': 0.02,\n",
       " 'args': {'star_internal_evolution': False,\n",
       "  'star_k2q': 2.48051072700778e-07,\n",
       "  'planet_internal_evolution': True,\n",
       "  'planet_k2q': 5.453790336227074e-05,\n",
       "  'planet_size_evolution': False,\n",
       "  'Rp': 92939600.0,\n",
       "  'planet_core_dissipation': False}}"
      ]
     },
     "execution_count": 4,
     "metadata": {},
     "output_type": "execute_result"
    }
   ],
   "source": [
    "# Now let's print the list of all the parameters\n",
    "# to be used (everything is in SI units)\n",
    "simulation.parameters"
   ]
  },
  {
   "cell_type": "markdown",
   "id": "638c73e2-9e2e-458d-bec4-cb4ad327022b",
   "metadata": {},
   "source": [
    "### Choose the total integration time and time-step"
   ]
  },
  {
   "cell_type": "code",
   "execution_count": 5,
   "id": "c792a2e3-838d-4efd-9e66-fa4216ac4a6b",
   "metadata": {},
   "outputs": [],
   "source": [
    "integration_time = 1 * simulation.star_lifespan.to('s').value\n",
    "timestep = 50 * KYEAR"
   ]
  },
  {
   "cell_type": "markdown",
   "id": "c3d2a40f-f877-40d2-9ed7-d753937d9576",
   "metadata": {},
   "source": [
    "### Choose the integrator and run the simulation"
   ]
  },
  {
   "cell_type": "code",
   "execution_count": 6,
   "id": "c1a25dd2-b9ff-4bd8-b097-b1118a5ce530",
   "metadata": {},
   "outputs": [
    {
     "name": "stdout",
     "output_type": "stream",
     "text": [
      " lsoda--  warning..internal t (=r1) and h (=r2) are\u0000\u0000\n",
      "       such that in the machine, t + h = t on the next step  \n",
      "       (h = step size). solver will continue anyway\u0000\u0000\n",
      "      in above,  r1 =  0.1519885935121D+17   r2 =  0.9781002137473D+00\n",
      " lsoda--  warning..internal t (=r1) and h (=r2) are\u0000\u0000\n",
      "       such that in the machine, t + h = t on the next step  \n",
      "       (h = step size). solver will continue anyway\u0000\u0000\n",
      "      in above,  r1 =  0.1519885935121D+17   r2 =  0.9781002137473D+00\n",
      " lsoda--  warning..internal t (=r1) and h (=r2) are\u0000\u0000\n",
      "       such that in the machine, t + h = t on the next step  \n",
      "       (h = step size). solver will continue anyway\u0000\u0000\n",
      "      in above,  r1 =  0.1519885935121D+17   r2 =  0.7472138639798D+00\n",
      " lsoda--  warning..internal t (=r1) and h (=r2) are\u0000\u0000\n",
      "       such that in the machine, t + h = t on the next step  \n",
      "       (h = step size). solver will continue anyway\u0000\u0000\n",
      "      in above,  r1 =  0.1519885935121D+17   r2 =  0.7472138639798D+00\n",
      " lsoda--  warning..internal t (=r1) and h (=r2) are\u0000\u0000\n",
      "       such that in the machine, t + h = t on the next step  \n",
      "       (h = step size). solver will continue anyway\u0000\u0000\n",
      "      in above,  r1 =  0.1519885935121D+17   r2 =  0.5858029762340D+00\n",
      " lsoda--  warning..internal t (=r1) and h (=r2) are\u0000\u0000\n",
      "       such that in the machine, t + h = t on the next step  \n",
      "       (h = step size). solver will continue anyway\u0000\u0000\n",
      "      in above,  r1 =  0.1519885935121D+17   r2 =  0.5858029762340D+00\n",
      " lsoda--  warning..internal t (=r1) and h (=r2) are\u0000\u0000\n",
      "       such that in the machine, t + h = t on the next step  \n",
      "       (h = step size). solver will continue anyway\u0000\u0000\n",
      "      in above,  r1 =  0.1519885935121D+17   r2 =  0.4554270476093D+00\n",
      " lsoda--  warning..internal t (=r1) and h (=r2) are\u0000\u0000\n",
      "       such that in the machine, t + h = t on the next step  \n",
      "       (h = step size). solver will continue anyway\u0000\u0000\n",
      "      in above,  r1 =  0.1519885935121D+17   r2 =  0.4554270476093D+00\n",
      " lsoda--  warning..internal t (=r1) and h (=r2) are\u0000\u0000\n",
      "       such that in the machine, t + h = t on the next step  \n",
      "       (h = step size). solver will continue anyway\u0000\u0000\n",
      "      in above,  r1 =  0.1519885935121D+17   r2 =  0.3638858694940D+00\n",
      " lsoda--  warning..internal t (=r1) and h (=r2) are\u0000\u0000\n",
      "       such that in the machine, t + h = t on the next step  \n",
      "       (h = step size). solver will continue anyway\u0000\u0000\n",
      "      in above,  r1 =  0.1519885935121D+17   r2 =  0.3638858694940D+00\n",
      " lsoda--  above warning has been issued i1 times.  \u0000\u0000\n",
      "       it will not be issued again for this problem\u0000\u0000\n",
      "      in above message,  i1 =        10\n"
     ]
    }
   ],
   "source": [
    "simulation.set_integration_method('lsoda')\n",
    "simulation.run(integration_time, timestep)"
   ]
  },
  {
   "cell_type": "markdown",
   "id": "9b3eac6d-46c6-45cc-82d0-6bbff956ba28",
   "metadata": {},
   "source": [
    "### Get the times and solutions"
   ]
  },
  {
   "cell_type": "code",
   "execution_count": 7,
   "id": "4125f102-62c8-44e7-947a-77ae9683bb52",
   "metadata": {},
   "outputs": [
    {
     "name": "stderr",
     "output_type": "stream",
     "text": [
      "/Users/Jaime/Documents/MacquarieUni/PhD/software_packages/ploonetide/src/ploonetide/utils/functions.py:255: RuntimeWarning: divide by zero encountered in true_divide\n",
      "  return (GCONST * (M + m) / N**2.0)**(1.0 / 3.0)\n"
     ]
    }
   ],
   "source": [
    "times, solutions = simulation.history    \n",
    "nps = solutions[:, 0]\n",
    "oms = solutions[:, 1]\n",
    "eps = solutions[:, 2]\n",
    "osms = solutions[:, 3]\n",
    "mps = solutions[:, 4]\n",
    "aps = mean2axis(nps, simulation.star_mass.to('kg').value, mps)"
   ]
  },
  {
   "cell_type": "markdown",
   "id": "4a6ae38a-c4bf-4971-825b-8859eb3e5e4a",
   "metadata": {},
   "source": [
    "### Plot the solutions using matplotlib and a few helper functions from ploonetide "
   ]
  },
  {
   "cell_type": "code",
   "execution_count": 8,
   "id": "33c815c6-c3ce-4fa2-928e-de31bd27e9dc",
   "metadata": {},
   "outputs": [
    {
     "data": {
      "image/png": "[encoded data removed]",
      "text/plain": [
       "<Figure size 360x252 with 1 Axes>"
      ]
     },
     "metadata": {
      "needs_background": "light"
     },
     "output_type": "display_data"
    }
   ],
   "source": [
    "fig = plt.figure(figsize=(5, 3.5))\n",
    "ax = fig.add_subplot(1, 1, 1)\n",
    "ax.plot(times / GYEAR, aps / AU, 'k-')\n",
    "fig.savefig(\"migration_star-planet.png\", dpi=300, facecolor='w')"
   ]
  },
  {
   "cell_type": "code",
   "execution_count": null,
   "id": "78ec44d2-cbf4-4c38-8b8c-0790547cccf6",
   "metadata": {},
   "outputs": [],
   "source": []
  }
 ],
 "metadata": {
  "kernelspec": {
   "display_name": "Python 3 (ipykernel)",
   "language": "python",
   "name": "python3"
  },
  "language_info": {
   "codemirror_mode": {
    "name": "ipython",
    "version": 3
   },
   "file_extension": ".py",
   "mimetype": "text/x-python",
   "name": "python",
   "nbconvert_exporter": "python",
   "pygments_lexer": "ipython3",
   "version": "3.8.13"
  }
 },
 "nbformat": 4,
 "nbformat_minor": 5
}
