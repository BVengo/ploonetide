{
 "cells": [
  {
   "cell_type": "markdown",
   "id": "fe061b62-38ed-4071-b633-ec98f88ae073",
   "metadata": {},
   "source": [
    "# Import ploonetide and other libraries"
   ]
  },
  {
   "cell_type": "code",
   "execution_count": 1,
   "id": "e41096bb-1ec2-45fa-a397-0b43f40f2dc9",
   "metadata": {},
   "outputs": [],
   "source": [
    "import numpy as np\n",
    "import matplotlib.pyplot as plt\n",
    "\n",
    "from ploonetide import TidalSimulation\n",
    "from ploonetide.utils import colorline\n",
    "from ploonetide.utils.functions import mean2axis, find_moon_fate\n",
    "from ploonetide.utils.constants import GYEAR, KYEAR, DAY, MSUN, AU"
   ]
  },
  {
   "cell_type": "markdown",
   "id": "fe57e864-c185-4b49-86ed-e19a8a610fe8",
   "metadata": {
    "tags": []
   },
   "source": [
    "-------\n",
    "## Create TidalSimulation object for planet-moon system. The list of the most important parameters is printed out."
   ]
  },
  {
   "cell_type": "code",
   "execution_count": 2,
   "id": "d4ac278c-35c2-4411-b871-9d7a1a6d2025",
   "metadata": {},
   "outputs": [
    {
     "name": "stdout",
     "output_type": "stream",
     "text": [
      "       _                        _   _     _      \n",
      " _ __ | | ___   ___  _ __   ___| |_(_) __| | ___ \n",
      "| '_ \\| |/ _ \\ / _ \\| '_ \\ / _ \\ __| |/ _` |/ _ \\\n",
      "| |_) | | (_) | (_) | | | |  __/ |_| | (_| |  __/\n",
      "| .__/|_|\\___/ \\___/|_| |_|\\___|\\__|_|\\__,_|\\___|\n",
      "|_|                                              \n",
      "\n",
      "\n",
      "Stellar mass: 0.8 solMass\n",
      " Planet orbital period: 20.0 d\n",
      " Planetary mass: 2.0 jupiterMass\n",
      " Planetary radius: 1.3 jupiterRad\n",
      " Moon orbital period: 10.0 a_roche (2.6 d days)\n",
      "\n"
     ]
    }
   ],
   "source": [
    "simulation = TidalSimulation(\n",
    "    system='planet-moon',\n",
    "    star_mass=0.8,  # Solar masses\n",
    "    star_radius=1.0,  # Solar radii\n",
    "    star_rotperiod=10,  # days\n",
    "    planet_mass=2,  # Jupiter masses\n",
    "    planet_radius=1.3,  # Jupiter radii\n",
    "    planet_orbperiod=20,  # days\n",
    "    planet_rotperiod=0.6,  # days\n",
    "    moon_semimaxis=10,  # Roche radii\n",
    "    moon_eccentricty=0.0,\n",
    "    planet_size_evolution=False,\n",
    "    planet_internal_evolution=False,\n",
    "    planet_core_dissipation=False,\n",
    ")"
   ]
  },
  {
   "cell_type": "markdown",
   "id": "ba1cc748-282e-47eb-8bbb-176bfa4d82f9",
   "metadata": {},
   "source": [
    "----\n",
    "## After building the TidalSimulation class instance, and before running the simulation, you still can modify any parameter in `dir(simulation)`:"
   ]
  },
  {
   "cell_type": "code",
   "execution_count": 13,
   "id": "eb5c4eb6-aedd-416d-a144-672302594b27",
   "metadata": {},
   "outputs": [],
   "source": [
    "# print(dir(simulation))  # Uncomment this line to print all the simulation attributes\n",
    "simulation.star_mass = 1.0  # Solar masses\n",
    "simulation.planet_mass = 2.2  # Jupiter masses"
   ]
  },
  {
   "cell_type": "code",
   "execution_count": 15,
   "id": "41d787c3-db5e-4c93-b88d-142661794486",
   "metadata": {},
   "outputs": [
    {
     "data": {
      "text/plain": [
       "{'Ms': 1.988409870698051e+30,\n",
       " 'Rs': 695700000.0,\n",
       " 'Ls': 6.463570700718025e+25,\n",
       " 'coeff_star': 0.5,\n",
       " 'star_alpha': 0.25,\n",
       " 'star_beta': 0.25,\n",
       " 'os_saturation': 4.3421e-05,\n",
       " 'star_age': 1.57788e+17,\n",
       " 'coeff_planet': 0.26401,\n",
       " 'Mp': 4.1758741141393115e+27,\n",
       " 'Rp': 92939600.0,\n",
       " 'planet_alpha': 0.126,\n",
       " 'planet_beta': 0.02,\n",
       " 'rigidity': 44600000000.0,\n",
       " 'E_act': 300000.0,\n",
       " 'B': 25.0,\n",
       " 'Ts': 1600.0,\n",
       " 'Tb': 1800.0,\n",
       " 'Tl': 2000.0,\n",
       " 'Cp': 1260.0,\n",
       " 'ktherm': 2.0,\n",
       " 'Rac': 1100.0,\n",
       " 'a2': 1.0,\n",
       " 'alpha_exp': 0.0001,\n",
       " 'densm': 5495.021865555213,\n",
       " 'Mm': 5.972167867791379e+24,\n",
       " 'Rm': 6378100.0,\n",
       " 'melt_fr': 0.5,\n",
       " 'sun_omega': 2.67e-06,\n",
       " 'sun_mass_loss_rate': 882124692.301465,\n",
       " 'nm_ini': 2.9088649392158994e-05,\n",
       " 'np_ini': 3.636102608321527e-06,\n",
       " 'op_ini': 0.00012120342027738399,\n",
       " 'Tm_ini': 429.61604317790363,\n",
       " 'Em_ini': 0.0,\n",
       " 'em_ini': 0.0,\n",
       " 'args': {'star_internal_evolution': False,\n",
       "  'star_k2q': 2.48051072700778e-07,\n",
       "  'planet_internal_evolution': False,\n",
       "  'planet_k2q': 6.078241478466431e-05,\n",
       "  'planet_size_evolution': False,\n",
       "  'Rp': 92939600.0,\n",
       "  'planet_core_dissipation': False}}"
      ]
     },
     "execution_count": 15,
     "metadata": {},
     "output_type": "execute_result"
    }
   ],
   "source": [
    "# Now let's print the list of all the parameters\n",
    "# to be used (everything is in SI units)\n",
    "simulation.sim_parameters"
   ]
  },
  {
   "cell_type": "markdown",
   "id": "638c73e2-9e2e-458d-bec4-cb4ad327022b",
   "metadata": {},
   "source": [
    "-----\n",
    "### Choose the total integration time and time-step"
   ]
  },
  {
   "cell_type": "code",
   "execution_count": 18,
   "id": "c792a2e3-838d-4efd-9e66-fa4216ac4a6b",
   "metadata": {},
   "outputs": [],
   "source": [
    "integration_time = 1 * simulation.star_lifespan.value\n",
    "time_step = 10 * KYEAR"
   ]
  },
  {
   "cell_type": "markdown",
   "id": "c3d2a40f-f877-40d2-9ed7-d753937d9576",
   "metadata": {},
   "source": [
    "### Choose the integrator and run the simulation"
   ]
  },
  {
   "cell_type": "code",
   "execution_count": null,
   "id": "c1a25dd2-b9ff-4bd8-b097-b1118a5ce530",
   "metadata": {},
   "outputs": [
    {
     "name": "stderr",
     "output_type": "stream",
     "text": [
      "Progress:  25%|████████████████████████████████▍                                                                                                 | 249906/1000000 steps | 02:33<06:29"
     ]
    }
   ],
   "source": [
    "simulation.set_integration_method('rk4')\n",
    "simulation.run(integration_time, time_step)"
   ]
  },
  {
   "cell_type": "markdown",
   "id": "9b3eac6d-46c6-45cc-82d0-6bbff956ba28",
   "metadata": {},
   "source": [
    "----\n",
    "### Get the times and solutions"
   ]
  },
  {
   "cell_type": "code",
   "execution_count": 6,
   "id": "4125f102-62c8-44e7-947a-77ae9683bb52",
   "metadata": {},
   "outputs": [],
   "source": [
    "times, solutions = simulation.history\n",
    "nms = solutions[:, 0]\n",
    "ops = solutions[:, 1]\n",
    "nps = solutions[:, 2]\n",
    "Tms = solutions[:, 3]\n",
    "Ems = solutions[:, 4]\n",
    "if simulation.moon_eccentricty != 0.0:\n",
    "    ems = solutions[:, 5]"
   ]
  },
  {
   "cell_type": "markdown",
   "id": "7b05c02b-3314-4490-9f1d-a778b369b636",
   "metadata": {},
   "source": [
    "### Plot the solutions using matplotlib and a few helper functions from ploonetide "
   ]
  },
  {
   "cell_type": "code",
   "execution_count": null,
   "id": "525a8439-4df2-4728-bf62-d132b33b9af2",
   "metadata": {},
   "outputs": [],
   "source": [
    "# COMPUTE SEMIMAJOR AXIS\n",
    "ams = mean2axis(nms, simulation.planet_mass.to('kg').value, simulation.moon_mass.to('kg').value)\n",
    "aps = mean2axis(nps, simulation.star_mass.to('kg').value, simulation.planet_mass.to('kg').value)\n",
    "\n",
    "# ************************************************************\n",
    "# FINDING ROUND-TRIP TIMES OR RUNAWAY TIMES\n",
    "# ************************************************************\n",
    "fate = find_moon_fate(times, ams, simulation.moon_roche_radius.value, simulation.planet_orbperiod.to('s').value,\n",
    "                      simulation.planet_mass.to('kg').value, simulation.star_mass.to('kg').value)\n",
    "\n",
    "labels = {'P': r'$\\mathrm{Log_{10}}(P_\\mathrm{orb})\\mathrm{[d]}$',\n",
    "          'Ms': r'$M_\\bigstar[\\mathrm{M_\\odot}]$', 'Mp': r'$M_\\mathrm{p}[\\mathrm{M_{jup}}]$',\n",
    "          't': r'$\\mathrm{Log_{10}}(\\mathrm{Time})\\mathrm{[Gyr]}$'}\n",
    "\n",
    "labelsize = 7.\n",
    "markersize = 7.\n",
    "ticksize = 6.\n",
    "\n",
    "x = times / GYEAR\n",
    "y = ams / simulation.moon_roche_radius.value\n",
    "z = Tms\n",
    "\n",
    "fig = plt.figure(figsize=(5, 3.5))\n",
    "ax = fig.add_subplot(1, 1, 1)\n",
    "lc = colorline(x, y, z, cmap='jet')\n",
    "cbar = fig.colorbar(lc, orientation='vertical', aspect=17, format=\"%.2f\", pad=0.04)\n",
    "cbar.set_label(label='Temperature [K]', size=7)\n",
    "cbar.set_ticks(np.linspace(np.nanmin(z), np.nanmax(z), 9))\n",
    "cbar.ax.tick_params(labelsize=ticksize)\n",
    "# ax.axhline(am_roche / roche_lims, c=\"k\", ls=\"--\", lw=0.9, zorder=0.0, label=\"Roche limit\")\n",
    "\n",
    "ax.set_xlim(x.min(), x[fate.index] + 0.2)\n",
    "ax.set_ylim(1.0, np.nanmax(y[np.isfinite(y)]) + 1)\n",
    "ax.tick_params(axis='both', direction='in', labelsize=ticksize)\n",
    "\n",
    "ax.set_xlabel('Time [Gyr]', fontsize=labelsize)\n",
    "ax.set_ylabel(r'Moon semi-major axis [$a_\\mathrm{Roche}$]', fontsize=labelsize)\n",
    "# ax.legend(loc='upper right', fontsize=labelsize)\n",
    "fig.savefig('migration.png', dpi=300, facecolor='w')\n"
   ]
  },
  {
   "cell_type": "code",
   "execution_count": null,
   "id": "94f35ead-318e-4a89-bf00-85b2b890de3b",
   "metadata": {},
   "outputs": [],
   "source": []
  }
 ],
 "metadata": {
  "kernelspec": {
   "display_name": "Python 3 (ipykernel)",
   "language": "python",
   "name": "python3"
  },
  "language_info": {
   "codemirror_mode": {
    "name": "ipython",
    "version": 3
   },
   "file_extension": ".py",
   "mimetype": "text/x-python",
   "name": "python",
   "nbconvert_exporter": "python",
   "pygments_lexer": "ipython3",
   "version": "3.8.13"
  }
 },
 "nbformat": 4,
 "nbformat_minor": 5
}
