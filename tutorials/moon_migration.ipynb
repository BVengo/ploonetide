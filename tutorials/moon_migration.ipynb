{
 "cells": [
  {
   "cell_type": "markdown",
   "id": "fe061b62-38ed-4071-b633-ec98f88ae073",
   "metadata": {},
   "source": [
    "# Import ploonetide and other libraries"
   ]
  },
  {
   "cell_type": "code",
   "execution_count": 1,
   "id": "e41096bb-1ec2-45fa-a397-0b43f40f2dc9",
   "metadata": {},
   "outputs": [],
   "source": [
    "import numpy as np\n",
    "import matplotlib.pyplot as plt\n",
    "\n",
    "from ploonetide import TidalSimulation\n",
    "from ploonetide.utils import colorline\n",
    "from ploonetide.utils.functions import mean2axis, find_moon_fate\n",
    "from ploonetide.utils.constants import GYEAR, KYEAR, DAY, MSUN, AU"
   ]
  },
  {
   "cell_type": "markdown",
   "id": "fe57e864-c185-4b49-86ed-e19a8a610fe8",
   "metadata": {
    "tags": []
   },
   "source": [
    "## Create TidalSimulation object for planet-moon system"
   ]
  },
  {
   "cell_type": "code",
   "execution_count": 2,
   "id": "d4ac278c-35c2-4411-b871-9d7a1a6d2025",
   "metadata": {},
   "outputs": [
    {
     "name": "stdout",
     "output_type": "stream",
     "text": [
      "       _                        _   _     _      \n",
      " _ __ | | ___   ___  _ __   ___| |_(_) __| | ___ \n",
      "| '_ \\| |/ _ \\ / _ \\| '_ \\ / _ \\ __| |/ _` |/ _ \\\n",
      "| |_) | | (_) | (_) | | | |  __/ |_| | (_| |  __/\n",
      "| .__/|_|\\___/ \\___/|_| |_|\\___|\\__|_|\\__,_|\\___|\n",
      "|_|                                              \n",
      "\n",
      "\n",
      "Stellar mass: 0.8 solMass\n",
      " Planet orbital period: 20.0 days\n",
      " Planetary mass: 2.0 Mjup\n",
      " Planetary radius: 1.3 Rjup\n",
      " Moon orbital period: 10.0 a_roche (2.6 days)\n",
      "\n"
     ]
    }
   ],
   "source": [
    "simulation = TidalSimulation(\n",
    "    system='planet-moon',\n",
    "    star_mass=0.8,  # Solar masses\n",
    "    star_radius=1.0,  # Solar radii\n",
    "    star_rotperiod=10,  # days\n",
    "    planet_mass=2,  # Jupiter masses\n",
    "    planet_radius=1.3,  # Jupiter radii\n",
    "    planet_orbperiod=20,  # days\n",
    "    planet_rotperiod=0.6,  # days\n",
    "    moon_eccentricty=0.0,\n",
    "    moon_semimaxis=10,  # Roche radii\n",
    "    planet_size_evolution=False,\n",
    "    planet_internal_evolution=True,\n",
    "    planet_core_dissipation=False,\n",
    ")"
   ]
  },
  {
   "cell_type": "markdown",
   "id": "638c73e2-9e2e-458d-bec4-cb4ad327022b",
   "metadata": {},
   "source": [
    "### Choose the total integration time and time-step"
   ]
  },
  {
   "cell_type": "code",
   "execution_count": 4,
   "id": "44fe66af-0ea4-4620-8940-9646a67407dd",
   "metadata": {},
   "outputs": [
    {
     "data": {
      "text/latex": [
       "$6.4635707 \\times 10^{25} \\; \\mathrm{W}$"
      ],
      "text/plain": [
       "<Quantity 6.4635707e+25 W>"
      ]
     },
     "execution_count": 4,
     "metadata": {},
     "output_type": "execute_result"
    }
   ],
   "source": [
    "dir(simulation)\n",
    "simulation.star_radius = 1\n",
    "simulation.star_luminosity"
   ]
  },
  {
   "cell_type": "code",
   "execution_count": 5,
   "id": "c792a2e3-838d-4efd-9e66-fa4216ac4a6b",
   "metadata": {},
   "outputs": [],
   "source": [
    "integration_time = 1 * simulation.stellar_lifespan\n",
    "timestep = 100 * KYEAR"
   ]
  },
  {
   "cell_type": "markdown",
   "id": "c3d2a40f-f877-40d2-9ed7-d753937d9576",
   "metadata": {},
   "source": [
    "### Choose the integrator and run the simulation"
   ]
  },
  {
   "cell_type": "code",
   "execution_count": 6,
   "id": "c1a25dd2-b9ff-4bd8-b097-b1118a5ce530",
   "metadata": {},
   "outputs": [
    {
     "name": "stderr",
     "output_type": "stream",
     "text": [
      "Progress: 100%|███████████████████████████████████████████████████████████████████████████████████████████████████████████████████████████████████| 174692/174692 steps | 01:39<00:00\n"
     ]
    }
   ],
   "source": [
    "simulation.set_integration_method('rk4')\n",
    "simulation.run(integration_time, timestep)"
   ]
  },
  {
   "cell_type": "markdown",
   "id": "9b3eac6d-46c6-45cc-82d0-6bbff956ba28",
   "metadata": {},
   "source": [
    "### Get the times and solutions"
   ]
  },
  {
   "cell_type": "code",
   "execution_count": 7,
   "id": "4125f102-62c8-44e7-947a-77ae9683bb52",
   "metadata": {},
   "outputs": [],
   "source": [
    "times, solutions = simulation.history\n",
    "nms = solutions[:, 0]\n",
    "ops = solutions[:, 1]\n",
    "nps = solutions[:, 2]\n",
    "Tms = solutions[:, 3]\n",
    "Ems = solutions[:, 4]\n",
    "if simulation.moon_eccentricty != 0.0:\n",
    "    ems = solutions[:, 5]"
   ]
  },
  {
   "cell_type": "markdown",
   "id": "7b05c02b-3314-4490-9f1d-a778b369b636",
   "metadata": {},
   "source": [
    "### Plot the solutions using matplotlib and a few helper functions from ploonetide "
   ]
  },
  {
   "cell_type": "code",
   "execution_count": 9,
   "id": "525a8439-4df2-4728-bf62-d132b33b9af2",
   "metadata": {},
   "outputs": [
    {
     "name": "stdout",
     "output_type": "stream",
     "text": [
      "Moon migrates too slow and never escapes or crosses Roche radius.\n",
      "[10.         10.01364376 10.02697889 ...  9.58129505  9.58128854\n",
      "  9.58128201]\n"
     ]
    },
    {
     "data": {
      "image/png": "[encoded data removed]",
      "text/plain": [
       "<Figure size 360x252 with 2 Axes>"
      ]
     },
     "metadata": {
      "needs_background": "light"
     },
     "output_type": "display_data"
    }
   ],
   "source": [
    "# COMPUTE SEMIMAJOR AXIS\n",
    "ams = mean2axis(nms, simulation.planet_mass, simulation.moon_mass)\n",
    "aps = mean2axis(nps, simulation.star_mass.to('kg').value, simulation.planet_mass)\n",
    "\n",
    "# ************************************************************\n",
    "# FINDING ROUND-TRIP TIMES OR RUNAWAY TIMES\n",
    "# ************************************************************\n",
    "fate = find_moon_fate(times, ams, simulation.moon_roche_radius, simulation.planet_orbperiod,\n",
    "                      simulation.planet_mass, simulation.star_mass.to('kg').value)\n",
    "\n",
    "labels = {'P': r'$\\mathrm{Log_{10}}(P_\\mathrm{orb})\\mathrm{[d]}$',\n",
    "          'Ms': r'$M_\\bigstar[\\mathrm{M_\\odot}]$', 'Mp': r'$M_\\mathrm{p}[\\mathrm{M_{jup}}]$',\n",
    "          't': r'$\\mathrm{Log_{10}}(\\mathrm{Time})\\mathrm{[Gyr]}$'}\n",
    "\n",
    "labelsize = 7.\n",
    "markersize = 7.\n",
    "ticksize = 6.\n",
    "\n",
    "x = times / GYEAR\n",
    "y = ams / simulation.moon_roche_radius\n",
    "z = Tms\n",
    "\n",
    "print(y)\n",
    "\n",
    "\n",
    "fig = plt.figure(figsize=(5, 3.5))\n",
    "ax = fig.add_subplot(1, 1, 1)\n",
    "lc = colorline(x, y, z, cmap='jet')\n",
    "cbar = fig.colorbar(lc, orientation='vertical', aspect=17, format=\"%.2f\", pad=0.04)\n",
    "cbar.set_label(label='Temperature [K]', size=7)\n",
    "cbar.set_ticks(np.linspace(np.nanmin(z), np.nanmax(z), 9))\n",
    "cbar.ax.tick_params(labelsize=ticksize)\n",
    "# ax.axhline(am_roche / roche_lims, c=\"k\", ls=\"--\", lw=0.9, zorder=0.0, label=\"Roche limit\")\n",
    "\n",
    "ax.set_xlim(x.min(), x[fate.index] + 0.2)\n",
    "ax.set_ylim(1.0, np.nanmax(y[np.isfinite(y)]) + 1)\n",
    "ax.tick_params(axis='both', direction='in', labelsize=ticksize)\n",
    "\n",
    "ax.set_xlabel('Time [Gyr]', fontsize=labelsize)\n",
    "ax.set_ylabel(r'Moon semi-major axis [$a_\\mathrm{Roche}$]', fontsize=labelsize)\n",
    "# ax.legend(loc='upper right', fontsize=labelsize)\n",
    "fig.savefig('migration.png', dpi=300, facecolor='w')\n"
   ]
  },
  {
   "cell_type": "code",
   "execution_count": null,
   "id": "def6bb7c-7109-4eb2-a57d-7b5625d2ca01",
   "metadata": {},
   "outputs": [],
   "source": [
    "simulation.star_luminosity.to('Lsun')"
   ]
  },
  {
   "cell_type": "code",
   "execution_count": null,
   "id": "b4c8dd49-873a-4e73-826f-b875a8590e52",
   "metadata": {},
   "outputs": [],
   "source": []
  }
 ],
 "metadata": {
  "kernelspec": {
   "display_name": "Python 3 (ipykernel)",
   "language": "python",
   "name": "python3"
  },
  "language_info": {
   "codemirror_mode": {
    "name": "ipython",
    "version": 3
   },
   "file_extension": ".py",
   "mimetype": "text/x-python",
   "name": "python",
   "nbconvert_exporter": "python",
   "pygments_lexer": "ipython3",
   "version": "3.8.13"
  }
 },
 "nbformat": 4,
 "nbformat_minor": 5
}
