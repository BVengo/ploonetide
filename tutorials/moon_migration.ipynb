{
 "cells": [
  {
   "cell_type": "markdown",
   "id": "fe061b62-38ed-4071-b633-ec98f88ae073",
   "metadata": {},
   "source": [
    "# Import ploonetide and other libraries"
   ]
  },
  {
   "cell_type": "code",
   "execution_count": null,
   "id": "e41096bb-1ec2-45fa-a397-0b43f40f2dc9",
   "metadata": {},
   "outputs": [],
   "source": [
    "import numpy as np\n",
    "import matplotlib.pyplot as plt\n",
    "\n",
    "from ploonetide import TidalSimulation\n",
    "from ploonetide.utils import colorline\n",
    "from ploonetide.utils.functions import mean2axis, find_moon_fate\n",
    "from ploonetide.utils.constants import GYEAR, KYEAR, DAY, MSUN, AU"
   ]
  },
  {
   "cell_type": "markdown",
   "id": "fe57e864-c185-4b49-86ed-e19a8a610fe8",
   "metadata": {
    "tags": []
   },
   "source": [
    "## Create now the TidalSimulation object"
   ]
  },
  {
   "cell_type": "code",
   "execution_count": null,
   "id": "d4ac278c-35c2-4411-b871-9d7a1a6d2025",
   "metadata": {},
   "outputs": [],
   "source": [
    "simulation = TidalSimulation(\n",
    "    system='planet-moon',\n",
    "    planet_orbperiod=20,\n",
    "    moon_eccentricty=0.0,\n",
    "    moon_semimaxis=10,\n",
    "    planet_size_evolution=False,\n",
    "    planet_internal_evolution=False,\n",
    "    planet_core_dissipation=False,\n",
    ")"
   ]
  },
  {
   "cell_type": "markdown",
   "id": "638c73e2-9e2e-458d-bec4-cb4ad327022b",
   "metadata": {},
   "source": [
    "### Choose the total integration time and time-step"
   ]
  },
  {
   "cell_type": "code",
   "execution_count": null,
   "id": "c792a2e3-838d-4efd-9e66-fa4216ac4a6b",
   "metadata": {},
   "outputs": [],
   "source": [
    "integration_time = 1 * simulation.stellar_lifespan\n",
    "timestep = 100 * KYEAR"
   ]
  },
  {
   "cell_type": "markdown",
   "id": "c3d2a40f-f877-40d2-9ed7-d753937d9576",
   "metadata": {},
   "source": [
    "### Choose the ingrator and run the simulation"
   ]
  },
  {
   "cell_type": "code",
   "execution_count": null,
   "id": "c1a25dd2-b9ff-4bd8-b097-b1118a5ce530",
   "metadata": {},
   "outputs": [],
   "source": [
    "simulation.set_integration_method('rk4')\n",
    "simulation.run(integration_time, timestep)"
   ]
  },
  {
   "cell_type": "markdown",
   "id": "9b3eac6d-46c6-45cc-82d0-6bbff956ba28",
   "metadata": {},
   "source": [
    "### Get the times and solutions"
   ]
  },
  {
   "cell_type": "code",
   "execution_count": null,
   "id": "4125f102-62c8-44e7-947a-77ae9683bb52",
   "metadata": {},
   "outputs": [],
   "source": [
    "times, solutions = simulation.history\n",
    "nms = solutions[:, 0]\n",
    "ops = solutions[:, 1]\n",
    "nps = solutions[:, 2]\n",
    "Tms = solutions[:, 3]\n",
    "Ems = solutions[:, 4]\n",
    "if simulation.moon_eccentricty != 0.0:\n",
    "    ems = solutions[:, 5]"
   ]
  }
 ],
 "metadata": {
  "kernelspec": {
   "display_name": "Python 3 (ipykernel)",
   "language": "python",
   "name": "python3"
  },
  "language_info": {
   "codemirror_mode": {
    "name": "ipython",
    "version": 3
   },
   "file_extension": ".py",
   "mimetype": "text/x-python",
   "name": "python",
   "nbconvert_exporter": "python",
   "pygments_lexer": "ipython3",
   "version": "3.8.13"
  }
 },
 "nbformat": 4,
 "nbformat_minor": 5
}
